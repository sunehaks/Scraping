{
 "cells": [
  {
   "cell_type": "code",
   "execution_count": 1,
   "metadata": {},
   "outputs": [],
   "source": [
    "import pandas as pd\n",
    "from requests import get\n",
    "from bs4 import BeautifulSoup\n",
    "from time import time\n",
    "from time import sleep\n",
    "import random\n",
    "import numpy as np\n",
    "\n",
    "url = 'https://www.imdb.com/title/tt7430722/reviews?sort=reviewVolume&dir=desc&ratingFilter=0'\n",
    "rating = []\n",
    "user = []\n",
    "review = []"
   ]
  },
  {
   "cell_type": "code",
   "execution_count": 2,
   "metadata": {},
   "outputs": [],
   "source": [
    "response = get(url)\n",
    "page_html = BeautifulSoup(response.text, 'html.parser')"
   ]
  },
  {
   "cell_type": "code",
   "execution_count": 3,
   "metadata": {},
   "outputs": [],
   "source": [
    "tabs = page_html.find_all('div', class_ = 'ipl-ratings-bar')\n",
    "tabs2 = page_html.find_all('div', class_ = 'display-name-date')\n",
    "tabs3 = page_html.find_all('div', class_ = 'content')\n",
    "\n",
    "for i in range(0,len(tabs)):\n",
    "    rat = tabs[i].find('span', class_='').text\n",
    "    usr = tabs2[i].find('a').text\n",
    "    rev = tabs3[i].find('div',class_ = 'text show-more__control').text\n",
    "\n",
    "    rating.append(rat)\n",
    "    user.append(usr)\n",
    "    review.append(rev)"
   ]
  },
  {
   "cell_type": "code",
   "execution_count": 6,
   "metadata": {},
   "outputs": [],
   "source": [
    "data = list(zip(rating,user,review))\n",
    "#ds1 = pd.Dataframe()\n",
    "for i in range(0,len(data)):\n",
    "    data[i] = list(data[i])"
   ]
  },
  {
   "cell_type": "code",
   "execution_count": 8,
   "metadata": {},
   "outputs": [
    {
     "data": {
      "text/html": [
       "<div>\n",
       "<style scoped>\n",
       "    .dataframe tbody tr th:only-of-type {\n",
       "        vertical-align: middle;\n",
       "    }\n",
       "\n",
       "    .dataframe tbody tr th {\n",
       "        vertical-align: top;\n",
       "    }\n",
       "\n",
       "    .dataframe thead th {\n",
       "        text-align: right;\n",
       "    }\n",
       "</style>\n",
       "<table border=\"1\" class=\"dataframe\">\n",
       "  <thead>\n",
       "    <tr style=\"text-align: right;\">\n",
       "      <th></th>\n",
       "      <th>rating</th>\n",
       "      <th>user</th>\n",
       "      <th>review</th>\n",
       "      <th>userId</th>\n",
       "    </tr>\n",
       "  </thead>\n",
       "  <tbody>\n",
       "    <tr>\n",
       "      <th>0</th>\n",
       "      <td>4</td>\n",
       "      <td>nairtejas</td>\n",
       "      <td>In a way War is a relevant film because it jus...</td>\n",
       "      <td>10</td>\n",
       "    </tr>\n",
       "    <tr>\n",
       "      <th>1</th>\n",
       "      <td>8</td>\n",
       "      <td>stevendbeard</td>\n",
       "      <td>I saw \"War\", starring Hrithik Roshan-Super 30,...</td>\n",
       "      <td>22</td>\n",
       "    </tr>\n",
       "    <tr>\n",
       "      <th>2</th>\n",
       "      <td>7</td>\n",
       "      <td>kluseba</td>\n",
       "      <td>War is an Indian action-thriller about a soldi...</td>\n",
       "      <td>7</td>\n",
       "    </tr>\n",
       "    <tr>\n",
       "      <th>3</th>\n",
       "      <td>1</td>\n",
       "      <td>Fella_shibby</td>\n",
       "      <td>Beware of fake reviews.A lousy attempt to be b...</td>\n",
       "      <td>17</td>\n",
       "    </tr>\n",
       "    <tr>\n",
       "      <th>4</th>\n",
       "      <td>8</td>\n",
       "      <td>ketgup83</td>\n",
       "      <td>When you have two of the best action stars com...</td>\n",
       "      <td>15</td>\n",
       "    </tr>\n",
       "  </tbody>\n",
       "</table>\n",
       "</div>"
      ],
      "text/plain": [
       "  rating          user                                             review  \\\n",
       "0      4     nairtejas  In a way War is a relevant film because it jus...   \n",
       "1      8  stevendbeard  I saw \"War\", starring Hrithik Roshan-Super 30,...   \n",
       "2      7       kluseba  War is an Indian action-thriller about a soldi...   \n",
       "3      1  Fella_shibby  Beware of fake reviews.A lousy attempt to be b...   \n",
       "4      8      ketgup83  When you have two of the best action stars com...   \n",
       "\n",
       "   userId  \n",
       "0      10  \n",
       "1      22  \n",
       "2       7  \n",
       "3      17  \n",
       "4      15  "
      ]
     },
     "execution_count": 8,
     "metadata": {},
     "output_type": "execute_result"
    }
   ],
   "source": [
    "ds1 = pd.DataFrame(data,columns=['rating','user','review'])\n",
    "uid = np.arange(0,24)\n",
    "random.shuffle(uid)\n",
    "ds1['userId']=uid\n",
    "ds1.sort_values(by='userId')\n",
    "ds1.head()"
   ]
  },
  {
   "cell_type": "code",
   "execution_count": 9,
   "metadata": {},
   "outputs": [
    {
     "data": {
      "text/html": [
       "<div>\n",
       "<style scoped>\n",
       "    .dataframe tbody tr th:only-of-type {\n",
       "        vertical-align: middle;\n",
       "    }\n",
       "\n",
       "    .dataframe tbody tr th {\n",
       "        vertical-align: top;\n",
       "    }\n",
       "\n",
       "    .dataframe thead th {\n",
       "        text-align: right;\n",
       "    }\n",
       "</style>\n",
       "<table border=\"1\" class=\"dataframe\">\n",
       "  <thead>\n",
       "    <tr style=\"text-align: right;\">\n",
       "      <th></th>\n",
       "      <th>userId</th>\n",
       "      <th>rating</th>\n",
       "      <th>review</th>\n",
       "    </tr>\n",
       "  </thead>\n",
       "  <tbody>\n",
       "    <tr>\n",
       "      <th>0</th>\n",
       "      <td>10</td>\n",
       "      <td>4</td>\n",
       "      <td>In a way War is a relevant film because it jus...</td>\n",
       "    </tr>\n",
       "    <tr>\n",
       "      <th>1</th>\n",
       "      <td>22</td>\n",
       "      <td>8</td>\n",
       "      <td>I saw \"War\", starring Hrithik Roshan-Super 30,...</td>\n",
       "    </tr>\n",
       "    <tr>\n",
       "      <th>2</th>\n",
       "      <td>7</td>\n",
       "      <td>7</td>\n",
       "      <td>War is an Indian action-thriller about a soldi...</td>\n",
       "    </tr>\n",
       "    <tr>\n",
       "      <th>3</th>\n",
       "      <td>17</td>\n",
       "      <td>1</td>\n",
       "      <td>Beware of fake reviews.A lousy attempt to be b...</td>\n",
       "    </tr>\n",
       "    <tr>\n",
       "      <th>4</th>\n",
       "      <td>15</td>\n",
       "      <td>8</td>\n",
       "      <td>When you have two of the best action stars com...</td>\n",
       "    </tr>\n",
       "  </tbody>\n",
       "</table>\n",
       "</div>"
      ],
      "text/plain": [
       "   userId rating                                             review\n",
       "0      10      4  In a way War is a relevant film because it jus...\n",
       "1      22      8  I saw \"War\", starring Hrithik Roshan-Super 30,...\n",
       "2       7      7  War is an Indian action-thriller about a soldi...\n",
       "3      17      1  Beware of fake reviews.A lousy attempt to be b...\n",
       "4      15      8  When you have two of the best action stars com..."
      ]
     },
     "execution_count": 9,
     "metadata": {},
     "output_type": "execute_result"
    }
   ],
   "source": [
    "ds = pd.DataFrame(zip(uid,rating,review),columns=['userId','rating','review'])\n",
    "ds.head()"
   ]
  },
  {
   "cell_type": "code",
   "execution_count": null,
   "metadata": {},
   "outputs": [],
   "source": []
  }
 ],
 "metadata": {
  "kernelspec": {
   "display_name": "Python 3",
   "language": "python",
   "name": "python3"
  },
  "language_info": {
   "codemirror_mode": {
    "name": "ipython",
    "version": 3
   },
   "file_extension": ".py",
   "mimetype": "text/x-python",
   "name": "python",
   "nbconvert_exporter": "python",
   "pygments_lexer": "ipython3",
   "version": "3.7.3"
  }
 },
 "nbformat": 4,
 "nbformat_minor": 2
}
