{
 "cells": [
  {
   "cell_type": "code",
   "execution_count": 15,
   "metadata": {},
   "outputs": [],
   "source": [
    "import requests\n",
    "from bs4 import BeautifulSoup\n",
    "import pandas as pd\n",
    "import csv"
   ]
  },
  {
   "cell_type": "code",
   "execution_count": 22,
   "metadata": {},
   "outputs": [
    {
     "name": "stdout",
     "output_type": "stream",
     "text": [
      "Scraping table of contents:\n",
      "History\n",
      "Definitions\n",
      "Basics\n",
      "Challenges of AI\n",
      "Reasoning, problem solving\n",
      "Knowledge representation\n",
      "Planning\n",
      "Learning\n",
      "Natural language processing\n",
      "Perception\n",
      "Motion and manipulation\n",
      "Social intelligence\n",
      "General intelligence\n",
      "Approaches\n",
      "Cybernetics and brain simulation\n",
      "Symbolic\n",
      "Cognitive simulation\n",
      "Logic-based\n",
      "Anti-logic or scruffy\n",
      "Knowledge-based\n",
      "Sub-symbolic\n",
      "Embodied intelligence\n",
      "Computational intelligence and soft computing\n",
      "Statistical learning\n",
      "Integrating the approaches\n",
      "Tools\n",
      "Search and optimization\n",
      "Logic\n",
      "Probabilistic methods for uncertain reasoning\n",
      "Classifiers and statistical learning methods\n",
      "Artificial neural networks\n",
      "Deep feedforward neural networks\n",
      "Deep recurrent neural networks\n",
      "Evaluating progress\n",
      "Applications\n",
      "Healthcare\n",
      "Automotive\n",
      "Finance and economics\n",
      "Government\n",
      "Video games\n",
      "Military\n",
      "Audit\n",
      "Advertising\n",
      "Art\n",
      "Philosophy and ethics\n",
      "The limits of artificial general intelligence\n",
      "Potential harm\n",
      "Existential risk\n",
      "Devaluation of humanity\n",
      "Social justice\n",
      "Decrease in demand for human labor\n",
      "Autonomous weapons\n",
      "Ethical machines\n",
      "Artificial moral agents\n",
      "Machine ethics\n",
      "Malevolent and friendly AI\n",
      "Machine consciousness, sentience and mind\n",
      "Consciousness\n",
      "Computationalism and functionalism\n",
      "Strong AI hypothesis\n",
      "Robot rights\n",
      "Superintelligence\n",
      "Technological singularity\n",
      "Transhumanism\n",
      "Economics\n",
      "In fiction\n",
      "See also\n",
      "Explanatory notes\n",
      "References\n",
      "AI textbooks\n",
      "History of AI\n",
      "Other sources\n",
      "Further reading\n",
      "External links\n"
     ]
    }
   ],
   "source": [
    "content = []\n",
    "url = 'https://en.wikipedia.org/wiki/Artificial_intelligence'\n",
    "page = requests.get(url)\n",
    "soup = BeautifulSoup(page.text,'html.parser')\n",
    "tab_content = soup.find('div', id = 'toc')\n",
    "con_list = tab_content.find_all('li')\n",
    "for item in con_list:\n",
    "    cont = item.find('span',class_='toctext')\n",
    "    content.append(cont.text)\n",
    "print(\"Scraping table of contents:\")\n",
    "for i in content:\n",
    "    print(i)"
   ]
  },
  {
   "cell_type": "code",
   "execution_count": null,
   "metadata": {},
   "outputs": [],
   "source": []
  }
 ],
 "metadata": {
  "kernelspec": {
   "display_name": "Python 3",
   "language": "python",
   "name": "python3"
  },
  "language_info": {
   "codemirror_mode": {
    "name": "ipython",
    "version": 3
   },
   "file_extension": ".py",
   "mimetype": "text/x-python",
   "name": "python",
   "nbconvert_exporter": "python",
   "pygments_lexer": "ipython3",
   "version": "3.7.3"
  }
 },
 "nbformat": 4,
 "nbformat_minor": 2
}
